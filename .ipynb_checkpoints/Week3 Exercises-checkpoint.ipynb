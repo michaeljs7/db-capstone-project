{
 "cells": [
  {
   "cell_type": "code",
   "execution_count": 23,
   "id": "40cf8e6a-104c-474d-8fb0-51764dffc80d",
   "metadata": {},
   "outputs": [],
   "source": [
    "import mysql.connector as connector\n",
    "connection = connector.connect(user = \"root\", password = \"bongo\", db='littlelemondb')\n"
   ]
  },
  {
   "cell_type": "code",
   "execution_count": 24,
   "id": "4a2aead4-1796-478a-868a-908ecdfece5a",
   "metadata": {},
   "outputs": [
    {
     "name": "stdout",
     "output_type": "stream",
     "text": [
      "[('booking',), ('customer',), ('employee',), ('menu',), ('menuitems',), ('order',), ('ordersview',)]\n"
     ]
    }
   ],
   "source": [
    "cursor=connection.cursor()\n",
    "show_tables_query = \"SHOW tables\" \n",
    "cursor.execute(show_tables_query)\n",
    "results=cursor.fetchall()\n",
    "print(results)"
   ]
  },
  {
   "cell_type": "code",
   "execution_count": 27,
   "id": "816c3a50-6191-4652-93db-872bd4ffed2d",
   "metadata": {},
   "outputs": [
    {
     "name": "stdout",
     "output_type": "stream",
     "text": [
      "CustomerID: 1005 \tCustomer Name:  MG Motors \tTel No:  999-1045 \tEmail: \n",
      "CustomerID: 1005 \tCustomer Name:  MG Motors \tTel No:  999-1045 \tEmail: \n",
      "CustomerID: 1001 \tCustomer Name:  Mike Turega \tTel No:  445-3185 \tEmail: mt@mmu.com\n"
     ]
    }
   ],
   "source": [
    "query_stmt='''select c.CustomerID,\n",
    "name 'Customer Name',\n",
    "telno 'Tel No',\n",
    "email,\n",
    "cost*quantity 'Total Bill Amount'\n",
    "from customer c \n",
    "join booking b \n",
    "on b.customerid=c.customerid\n",
    "join \n",
    "`order` o\n",
    "on b.bookingid=o.bookingid\n",
    "join menuitems mu\n",
    "on o.menuitemid=mu.menuitemid\n",
    "where mu.cost * o.Quantity>60\n",
    "order by mu.cost * o.Quantity desc '''\n",
    "\n",
    "cursor.execute(query_stmt)\n",
    "results=cursor.fetchall()\n",
    "\n",
    "for result in results:\n",
    "    print('CustomerID:', result[0], '\\tCustomer Name: ', result[1], '\\tTel No: ', result[2], '\\tEmail:', '' if result[3]==None else result[3])\n",
    "\n"
   ]
  },
  {
   "cell_type": "code",
   "execution_count": null,
   "id": "2b79fe6b-3ad0-41a0-9cd6-2dc182a86c18",
   "metadata": {},
   "outputs": [],
   "source": []
  },
  {
   "cell_type": "code",
   "execution_count": null,
   "id": "9192fc72-521a-4f2d-ad11-c4904d1a54c3",
   "metadata": {},
   "outputs": [],
   "source": []
  }
 ],
 "metadata": {
  "kernelspec": {
   "display_name": "Python 3 (ipykernel)",
   "language": "python",
   "name": "python3"
  },
  "language_info": {
   "codemirror_mode": {
    "name": "ipython",
    "version": 3
   },
   "file_extension": ".py",
   "mimetype": "text/x-python",
   "name": "python",
   "nbconvert_exporter": "python",
   "pygments_lexer": "ipython3",
   "version": "3.10.5"
  }
 },
 "nbformat": 4,
 "nbformat_minor": 5
}
